{
 "cells": [
  {
   "attachments": {},
   "cell_type": "markdown",
   "metadata": {},
   "source": [
    "# Module 12 Challenge\n",
    "## Deliverable 1: Scrape Titles and Preview Text from Mars News"
   ]
  },
  {
   "cell_type": "code",
   "execution_count": 1,
   "metadata": {},
   "outputs": [],
   "source": [
    "# Import Splinter and BeautifulSoup\n",
    "from splinter import Browser\n",
    "from bs4 import BeautifulSoup"
   ]
  },
  {
   "cell_type": "code",
   "execution_count": 2,
   "metadata": {
    "scrolled": true
   },
   "outputs": [],
   "source": [
    "browser = Browser('chrome')"
   ]
  },
  {
   "attachments": {},
   "cell_type": "markdown",
   "metadata": {},
   "source": [
    "### Step 1: Visit the Website\n",
    "\n",
    "1. Use automated browsing to visit the [Mars news site](https://static.bc-edx.com/data/web/mars_news/index.html). Inspect the page to identify which elements to scrape.\n",
    "\n",
    "      > **Hint** To identify which elements to scrape, you might want to inspect the page by using Chrome DevTools."
   ]
  },
  {
   "cell_type": "code",
   "execution_count": 3,
   "metadata": {},
   "outputs": [],
   "source": [
    "# Visit the Mars news site\n",
    "url = 'https://static.bc-edx.com/data/web/mars_news/index.html'\n",
    "browser.visit(url)"
   ]
  },
  {
   "attachments": {},
   "cell_type": "markdown",
   "metadata": {},
   "source": [
    "### Step 2: Scrape the Website\n",
    "\n",
    "Create a Beautiful Soup object and use it to extract text elements from the website."
   ]
  },
  {
   "cell_type": "code",
   "execution_count": 4,
   "metadata": {},
   "outputs": [
    {
     "name": "stdout",
     "output_type": "stream",
     "text": [
      "HTML content successfully retrieved.\n"
     ]
    }
   ],
   "source": [
    "# Open a browser session\n",
    "with Browser('chrome') as browser:\n",
    "    # Visit the Mars news site\n",
    "    browser.visit(url)\n",
    "    \n",
    "    # Extract the HTML content of the page\n",
    "    html = browser.html\n",
    "    \n",
    "    # Check if html content is retrieved\n",
    "    if html:\n",
    "        print(\"HTML content successfully retrieved.\")\n",
    "    else:\n",
    "        print(\"Failed to retrieve HTML content.\")\n",
    "\n",
    "    # Create a BeautifulSoup object\n",
    "    soup = BeautifulSoup(html, 'html.parser')"
   ]
  },
  {
   "cell_type": "code",
   "execution_count": 5,
   "metadata": {},
   "outputs": [
    {
     "name": "stdout",
     "output_type": "stream",
     "text": [
      "News Titles:\n",
      "Title: NASA's MAVEN Observes Martian Light Show Caused by Major Solar Storm\n",
      "Title: NASA Prepares to Say 'Farewell' to InSight Spacecraft\n",
      "Title: NASA and ESA Agree on Next Steps to Return Mars Samples to Earth\n",
      "Title: NASA's InSight Lander Detects Stunning Meteoroid Impact on Mars\n",
      "Title: NASA To Host Briefing on InSight, Mars Reconnaissance Orbiter Findings\n",
      "Title: Why NASA Is Trying To Crash Land on Mars\n",
      "Title: Curiosity Mars Rover Reaches Long-Awaited Salty Region\n",
      "Title: Mars Mission Shields Up for Tests\n",
      "Title: NASA's InSight Waits Out Dust Storm\n",
      "Title: NASA's InSight 'Hears' Its First Meteoroid Impacts on Mars\n",
      "Title: NASA's Perseverance Rover Investigates Geologically Rich Mars Terrain\n",
      "Title: NASA to Host Briefing on Perseverance Mars Rover Mission Operations\n",
      "Title: NASA's Perseverance Makes New Discoveries in Mars' Jezero Crater\n",
      "Title: 10 Years Since Landing, NASA's Curiosity Mars Rover Still Has Drive\n",
      "Title: SAM's Top 5 Discoveries Aboard NASA's Curiosity Rover at Mars\n",
      "\n",
      "News Summaries:\n",
      "Summary: For the first time in its eight years orbiting Mars, NASA’s MAVEN mission witnessed two different types of ultraviolet aurorae simultaneously, the result of solar storms that began on Aug. 27.\n",
      "Summary: A closer look at what goes into wrapping up the mission as the spacecraft’s power supply continues to dwindle.\n",
      "Summary: The agency’s Perseverance rover will establish the first sample depot on Mars.\n",
      "Summary: The agency’s lander felt the ground shake during the impact while cameras aboard the Mars Reconnaissance Orbiter spotted the yawning new crater from space.\n",
      "Summary: Scientists from two Mars missions will discuss how they combined images and data for a major finding on the Red Planet.\n",
      "Summary: Like a car’s crumple zone, the experimental SHIELD lander is designed to absorb a hard impact.\n",
      "Summary: After years of climbing, the Mars rover has arrived at a special region believed to have formed as Mars’ climate was drying.\n",
      "Summary: Protecting Mars Sample Return spacecraft from micrometeorites requires high-caliber work.\n",
      "Summary: InSight’s team is taking steps to help the solar-powered lander continue operating for as long as possible.\n",
      "Summary: The Mars lander’s seismometer has picked up vibrations from four separate impacts in the past two years.\n",
      "Summary: The latest findings provide greater detail on a region of the Red Planet that has a watery past and is yielding promising samples for the NASA-ESA Mars Sample Return campaign.\n",
      "Summary: Members of the mission will discuss the rover’s activities as it gathers samples in an ancient river delta.\n",
      "Summary: The rover found that Jezero Crater’s floor is made up of volcanic rocks that have interacted with water.\n",
      "Summary: Despite signs of wear, the intrepid spacecraft is about to start an exciting new chapter of its mission as it climbs a Martian mountain.\n",
      "Summary: “Selfie” of the Curiosity rover with inset showing the SAM instrument prior to installation on the rover.\n"
     ]
    }
   ],
   "source": [
    "# Extract all the text elements\n",
    "print(\"News Titles:\")\n",
    "titles = soup.find_all('div', class_='content_title')\n",
    "for title in titles:\n",
    "    print(f\"Title: {title.get_text(strip=True)}\")\n",
    "print(\"\\nNews Summaries:\")\n",
    "# Extract all the news summaries\n",
    "summaries = soup.find_all('div', class_='article_teaser_body')\n",
    "for summary in summaries:\n",
    "    print(f\"Summary: {summary.get_text(strip=True)}\")"
   ]
  },
  {
   "attachments": {},
   "cell_type": "markdown",
   "metadata": {},
   "source": [
    "### Step 3: Store the Results\n",
    "\n",
    "Extract the titles and preview text of the news articles that you scraped. Store the scraping results in Python data structures as follows:\n",
    "\n",
    "* Store each title-and-preview pair in a Python dictionary. And, give each dictionary two keys: `title` and `preview`. An example is the following:\n",
    "\n",
    "  ```python\n",
    "  {'title': \"NASA's MAVEN Observes Martian Light Show Caused by Major Solar Storm\", \n",
    "   'preview': \"For the first time in its eight years orbiting Mars, NASA’s MAVEN mission witnessed two different types of ultraviolet aurorae simultaneously, the result of solar storms that began on Aug. 27.\"\n",
    "  }\n",
    "  ```\n",
    "\n",
    "* Store all the dictionaries in a Python list.\n",
    "\n",
    "* Print the list in your notebook."
   ]
  },
  {
   "cell_type": "code",
   "execution_count": 6,
   "metadata": {},
   "outputs": [],
   "source": [
    "# Create an empty list to store the dictionaries\n",
    "mars_news_list = []"
   ]
  },
  {
   "cell_type": "code",
   "execution_count": 7,
   "metadata": {},
   "outputs": [],
   "source": [
    "# Loop Through Text Elements\n",
    "# Find all news article containers (assuming each article has a title and preview)\n",
    "articles = soup.find_all('div', class_='list_text')\n",
    "\n",
    "for article in articles:\n",
    "    # Extract and Store Data in Dictionaries\n",
    "    title_element = article.find('div', class_='content_title')\n",
    "    preview_element = article.find('div', class_='article_teaser_body')\n",
    "        \n",
    "# Get the text and strip any leading/trailing whitespace\n",
    "title_text = title_element.get_text(strip=True) if title_element else 'No Title'\n",
    "preview_text = preview_element.get_text(strip=True) if preview_element else 'No Preview'\n",
    "        \n",
    "# Create a dictionary for the current article\n",
    "article_dict = {\n",
    "    'title': title_text,\n",
    "    'preview': preview_text\n",
    "}        \n",
    "\n",
    "# Add the dictionary to the list\n",
    "mars_news_list.append(article_dict)"
   ]
  },
  {
   "cell_type": "code",
   "execution_count": 8,
   "metadata": {},
   "outputs": [
    {
     "name": "stdout",
     "output_type": "stream",
     "text": [
      "[{'title': \"SAM's Top 5 Discoveries Aboard NASA's Curiosity Rover at Mars\", 'preview': '“Selfie” of the Curiosity rover with inset showing the SAM instrument prior to installation on the rover.'}]\n"
     ]
    }
   ],
   "source": [
    "# Print the list to confirm success\n",
    "print(mars_news_list)"
   ]
  },
  {
   "cell_type": "code",
   "execution_count": 9,
   "metadata": {},
   "outputs": [
    {
     "name": "stdout",
     "output_type": "stream",
     "text": [
      "Scraped data successfully stored in mars_news.json\n"
     ]
    }
   ],
   "source": [
    "import json\n",
    "# Store the Scraped Data in a JSON File\n",
    "json_filename = 'mars_news.json'\n",
    "with open(json_filename, 'w', encoding='utf-8') as f:\n",
    "    json.dump(mars_news_list, f, ensure_ascii=False, indent=4)\n",
    "print(f\"Scraped data successfully stored in {json_filename}\")"
   ]
  },
  {
   "cell_type": "code",
   "execution_count": 10,
   "metadata": {},
   "outputs": [],
   "source": [
    "browser.quit()"
   ]
  },
  {
   "cell_type": "code",
   "execution_count": null,
   "metadata": {},
   "outputs": [],
   "source": []
  }
 ],
 "metadata": {
  "kernelspec": {
   "display_name": "Python 3 (ipykernel)",
   "language": "python",
   "name": "python3"
  },
  "language_info": {
   "codemirror_mode": {
    "name": "ipython",
    "version": 3
   },
   "file_extension": ".py",
   "mimetype": "text/x-python",
   "name": "python",
   "nbconvert_exporter": "python",
   "pygments_lexer": "ipython3",
   "version": "3.11.7"
  },
  "vscode": {
   "interpreter": {
    "hash": "31f2aee4e71d21fbe5cf8b01ff0e069b9275f58929596ceb00d14d90e3e16cd6"
   }
  }
 },
 "nbformat": 4,
 "nbformat_minor": 4
}
